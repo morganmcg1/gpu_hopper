{
  "cells": [
    {
      "cell_type": "code",
      "execution_count": 1,
      "metadata": {
        "colab": {
          "base_uri": "https://localhost:8080/"
        },
        "id": "SLF1BQ5J_T1C",
        "outputId": "596fc365-6a95-49a8-8886-db5ca729cc45"
      },
      "outputs": [
        {
          "name": "stdout",
          "output_type": "stream",
          "text": [
            "--2022-10-20 14:52:32--  https://raw.githubusercontent.com/morganmcg1/gpu_hopper/main/examples/nerf/requirements.txt\n",
            "Resolving raw.githubusercontent.com (raw.githubusercontent.com)... 185.199.108.133, 185.199.111.133, 185.199.110.133, ...\n",
            "Connecting to raw.githubusercontent.com (raw.githubusercontent.com)|185.199.108.133|:443... connected.\n",
            "HTTP request sent, awaiting response... 200 OK\n",
            "Length: 22 [text/plain]\n",
            "Saving to: ‘requirements.txt’\n",
            "\n",
            "requirements.txt    100%[===================>]      22  --.-KB/s    in 0s      \n",
            "\n",
            "2022-10-20 14:52:32 (830 KB/s) - ‘requirements.txt’ saved [22/22]\n",
            "\n",
            "--2022-10-20 14:52:32--  https://raw.githubusercontent.com/morganmcg1/gpu_hopper/main/examples/nerf/train_nerf.py\n",
            "Resolving raw.githubusercontent.com (raw.githubusercontent.com)... 185.199.108.133, 185.199.111.133, 185.199.110.133, ...\n",
            "Connecting to raw.githubusercontent.com (raw.githubusercontent.com)|185.199.108.133|:443... connected.\n",
            "HTTP request sent, awaiting response... 200 OK\n",
            "Length: 6019 (5.9K) [text/plain]\n",
            "Saving to: ‘train_nerf.py’\n",
            "\n",
            "train_nerf.py       100%[===================>]   5.88K  --.-KB/s    in 0s      \n",
            "\n",
            "2022-10-20 14:52:32 (77.9 MB/s) - ‘train_nerf.py’ saved [6019/6019]\n",
            "\n",
            "--2022-10-20 14:52:32--  https://raw.githubusercontent.com/morganmcg1/gpu_hopper/main/examples/nerf/nerf_utils.py\n",
            "Resolving raw.githubusercontent.com (raw.githubusercontent.com)... 185.199.108.133, 185.199.109.133, 185.199.110.133, ...\n",
            "Connecting to raw.githubusercontent.com (raw.githubusercontent.com)|185.199.108.133|:443... connected.\n",
            "HTTP request sent, awaiting response... 200 OK\n",
            "Length: 12736 (12K) [text/plain]\n",
            "Saving to: ‘nerf_utils.py’\n",
            "\n",
            "nerf_utils.py       100%[===================>]  12.44K  --.-KB/s    in 0s      \n",
            "\n",
            "2022-10-20 14:52:33 (114 MB/s) - ‘nerf_utils.py’ saved [12736/12736]\n",
            "\n"
          ]
        }
      ],
      "source": [
        "!wget https://raw.githubusercontent.com/morganmcg1/gpu_hopper/main/examples/nerf/requirements.txt\n",
        "!wget https://raw.githubusercontent.com/morganmcg1/gpu_hopper/main/examples/nerf/train_nerf.py\n",
        "!wget https://raw.githubusercontent.com/morganmcg1/gpu_hopper/main/examples/nerf/nerf_utils.py"
      ]
    },
    {
      "cell_type": "code",
      "execution_count": 2,
      "metadata": {
        "colab": {
          "base_uri": "https://localhost:8080/"
        },
        "id": "MvQTM1BKBJ_T",
        "outputId": "4aa68dbd-0bdd-4fd0-ce0c-0946d78a65ae"
      },
      "outputs": [
        {
          "name": "stdout",
          "output_type": "stream",
          "text": [
            "\u001b[K     |████████████████████████████████| 1.9 MB 22.5 MB/s \n",
            "\u001b[K     |████████████████████████████████| 166 kB 63.4 MB/s \n",
            "\u001b[K     |████████████████████████████████| 182 kB 69.9 MB/s \n",
            "\u001b[K     |████████████████████████████████| 63 kB 1.7 MB/s \n",
            "\u001b[K     |████████████████████████████████| 162 kB 71.7 MB/s \n",
            "\u001b[K     |████████████████████████████████| 162 kB 78.2 MB/s \n",
            "\u001b[K     |████████████████████████████████| 158 kB 67.0 MB/s \n",
            "\u001b[K     |████████████████████████████████| 157 kB 73.2 MB/s \n",
            "\u001b[K     |████████████████████████████████| 157 kB 76.9 MB/s \n",
            "\u001b[K     |████████████████████████████████| 157 kB 70.9 MB/s \n",
            "\u001b[K     |████████████████████████████████| 157 kB 80.4 MB/s \n",
            "\u001b[K     |████████████████████████████████| 157 kB 75.4 MB/s \n",
            "\u001b[K     |████████████████████████████████| 157 kB 76.7 MB/s \n",
            "\u001b[K     |████████████████████████████████| 157 kB 74.7 MB/s \n",
            "\u001b[K     |████████████████████████████████| 156 kB 77.0 MB/s \n",
            "\u001b[?25h  Building wheel for pathtools (setup.py) ... \u001b[?25l\u001b[?25hdone\n"
          ]
        }
      ],
      "source": [
        "!pip install -qqq -r requirements.txt"
      ]
    },
    {
      "cell_type": "markdown",
      "metadata": {},
      "source": []
    },
    {
      "cell_type": "code",
      "execution_count": null,
      "metadata": {},
      "outputs": [],
      "source": [
        "# Login with Kaggle secrets if kaggle kernel detected\n",
        "import os\n",
        "import sys\n",
        "\n",
        "if (os.getenv(\"KAGGLE_KERNEL_RUN_TYPE\") is not None\n",
        "    or \"kaggle_environments\" in sys.modules ):\n",
        "    \n",
        "    import wandb\n",
        "    from kaggle_secrets import UserSecretsClient\n",
        "\n",
        "    user_secrets = UserSecretsClient()\n",
        "    secret_value_0 = user_secrets.get_secret(\"wb\")\n",
        "    wandb.login(key=secret_value_0)"
      ]
    },
    {
      "cell_type": "code",
      "execution_count": null,
      "metadata": {
        "colab": {
          "base_uri": "https://localhost:8080/"
        },
        "id": "NyKLEKZSAuFa",
        "outputId": "88222025-7cef-4e3d-bf93-c0817425f0a2"
      },
      "outputs": [
        {
          "name": "stdout",
          "output_type": "stream",
          "text": [
            "\u001b[34m\u001b[1mwandb\u001b[0m: (1) Create a W&B account\n",
            "\u001b[34m\u001b[1mwandb\u001b[0m: (2) Use an existing W&B account\n",
            "\u001b[34m\u001b[1mwandb\u001b[0m: (3) Don't visualize my results\n",
            "\u001b[34m\u001b[1mwandb\u001b[0m: Enter your choice: 2\n",
            "\u001b[34m\u001b[1mwandb\u001b[0m: You chose 'Use an existing W&B account'\n",
            "\u001b[34m\u001b[1mwandb\u001b[0m: Logging into wandb.ai. (Learn how to deploy a W&B server locally: https://wandb.me/wandb-server)\n",
            "\u001b[34m\u001b[1mwandb\u001b[0m: You can find your API key in your browser here: https://wandb.ai/authorize\n",
            "\u001b[34m\u001b[1mwandb\u001b[0m: Paste an API key from your profile and hit enter, or press ctrl+c to quit: \n",
            "\u001b[34m\u001b[1mwandb\u001b[0m: Appending key for api.wandb.ai to your netrc file: /root/.netrc\n",
            "\u001b[34m\u001b[1mwandb\u001b[0m: Tracking run with wandb version 0.13.4\n",
            "\u001b[34m\u001b[1mwandb\u001b[0m: Run data is saved locally in \u001b[35m\u001b[1m/content/wandb/run-20221020_145403-65ggo7ux\u001b[0m\n",
            "\u001b[34m\u001b[1mwandb\u001b[0m: Run \u001b[1m`wandb offline`\u001b[0m to turn off syncing.\n",
            "\u001b[34m\u001b[1mwandb\u001b[0m: Resuming run \u001b[33mclear-sponge-5\u001b[0m\n",
            "\u001b[34m\u001b[1mwandb\u001b[0m: ⭐️ View project at \u001b[34m\u001b[4mhttps://wandb.ai/morgan/nerf-gpu-hopper\u001b[0m\n",
            "\u001b[34m\u001b[1mwandb\u001b[0m: 🚀 View run at \u001b[34m\u001b[4mhttps://wandb.ai/morgan/nerf-gpu-hopper/runs/65ggo7ux\u001b[0m\n",
            "Downloading data from https://people.eecs.berkeley.edu/~bmild/nerf/tiny_nerf_data.npz\n",
            "12727482/12727482 [==============================] - 0s 0us/step\n",
            "2022-10-20 14:54:10.953270: W tensorflow/core/common_runtime/gpu/gpu_bfc_allocator.cc:42] Overriding orig_value setting because the TF_FORCE_GPU_ALLOW_GROWTH environment variable is set. Original config value was 0.\n",
            "Epoch 1/30\n",
            " 4/16 [======>.......................] - ETA: 6s - loss: 0.1626 - psnr: 7.9279WARNING:tensorflow:Compiled the loaded model, but the compiled metrics have yet to be built. `model.compile_metrics` will be empty until you train or evaluate the model.\n",
            "WARNING:tensorflow:Compiled the loaded model, but the compiled metrics have yet to be built. `model.compile_metrics` will be empty until you train or evaluate the model.\n",
            "\u001b[34m\u001b[1mwandb\u001b[0m: Adding directory to artifact (./my_nerf)... Done. 0.1s\n",
            " 6/16 [==========>...................] - ETA: 12s - loss: 0.1520 - psnr: 8.2338WARNING:tensorflow:Callback method `on_train_batch_end` is slow compared to the batch time (batch time: 0.3868s vs `on_train_batch_end` time: 0.7772s). Check your callbacks.\n",
            "WARNING:tensorflow:Callback method `on_train_batch_end` is slow compared to the batch time (batch time: 0.3868s vs `on_train_batch_end` time: 0.7772s). Check your callbacks.\n",
            " 9/16 [===============>..............] - ETA: 7s - loss: 0.1388 - psnr: 8.6561WARNING:tensorflow:Compiled the loaded model, but the compiled metrics have yet to be built. `model.compile_metrics` will be empty until you train or evaluate the model.\n",
            "WARNING:tensorflow:Compiled the loaded model, but the compiled metrics have yet to be built. `model.compile_metrics` will be empty until you train or evaluate the model.\n",
            "\u001b[34m\u001b[1mwandb\u001b[0m: Adding directory to artifact (./my_nerf)... Done. 0.1s\n",
            "14/16 [=========================>....] - ETA: 2s - loss: 0.1195 - psnr: 9.4354WARNING:tensorflow:Compiled the loaded model, but the compiled metrics have yet to be built. `model.compile_metrics` will be empty until you train or evaluate the model.\n",
            "WARNING:tensorflow:Compiled the loaded model, but the compiled metrics have yet to be built. `model.compile_metrics` will be empty until you train or evaluate the model.\n",
            "\u001b[34m\u001b[1mwandb\u001b[0m: Adding directory to artifact (./my_nerf)... Done. 0.1s\n",
            "16/16 [==============================] - 29s 2s/step - loss: 0.1135 - psnr: 9.7269 - val_loss: 0.0683 - val_psnr: 12.0718\n",
            "Epoch 2/30\n",
            " 3/16 [====>.........................] - ETA: 11s - loss: 0.0553 - psnr: 12.8508WARNING:tensorflow:Compiled the loaded model, but the compiled metrics have yet to be built. `model.compile_metrics` will be empty until you train or evaluate the model.\n",
            "WARNING:tensorflow:Compiled the loaded model, but the compiled metrics have yet to be built. `model.compile_metrics` will be empty until you train or evaluate the model.\n",
            "\u001b[34m\u001b[1mwandb\u001b[0m: Adding directory to artifact (./my_nerf)... Done. 0.2s\n",
            " 8/16 [==============>...............] - ETA: 11s - loss: 0.0687 - psnr: 12.1071WARNING:tensorflow:Compiled the loaded model, but the compiled metrics have yet to be built. `model.compile_metrics` will be empty until you train or evaluate the model.\n",
            "WARNING:tensorflow:Compiled the loaded model, but the compiled metrics have yet to be built. `model.compile_metrics` will be empty until you train or evaluate the model.\n"
          ]
        }
      ],
      "source": [
        "!python3 train_nerf.py --wandb_run_id \"65ggo7ux\" --wandb_entity morgan --wandb_project nerf-gpu-hopper"
      ]
    },
    {
      "cell_type": "code",
      "execution_count": null,
      "metadata": {
        "id": "TA7u3ea-mZHD"
      },
      "outputs": [],
      "source": []
    }
  ],
  "metadata": {
    "accelerator": "GPU",
    "colab": {
      "collapsed_sections": [],
      "provenance": []
    },
    "gpuClass": "standard",
    "kernelspec": {
      "display_name": "Python 3",
      "name": "python3"
    },
    "language_info": {
      "name": "python"
    }
  },
  "nbformat": 4,
  "nbformat_minor": 0
}
